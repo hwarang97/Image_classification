{
  "nbformat": 4,
  "nbformat_minor": 0,
  "metadata": {
    "colab": {
      "provenance": [],
      "authorship_tag": "ABX9TyPVK5u/lPPFYWRVESzY3BK8",
      "include_colab_link": true
    },
    "kernelspec": {
      "name": "python3",
      "display_name": "Python 3"
    },
    "language_info": {
      "name": "python"
    },
    "accelerator": "GPU",
    "gpuClass": "standard"
  },
  "cells": [
    {
      "cell_type": "markdown",
      "metadata": {
        "id": "view-in-github",
        "colab_type": "text"
      },
      "source": [
        "<a href=\"https://colab.research.google.com/github/hwarang97/Image_classification/blob/main/lenet_5.ipynb\" target=\"_parent\"><img src=\"https://colab.research.google.com/assets/colab-badge.svg\" alt=\"Open In Colab\"/></a>"
      ]
    },
    {
      "cell_type": "code",
      "execution_count": 1,
      "metadata": {
        "id": "AeU0vuuQSfh2"
      },
      "outputs": [],
      "source": [
        "from tensorflow import keras\n",
        "from sklearn.model_selection import train_test_split\n",
        "import numpy as np"
      ]
    },
    {
      "cell_type": "code",
      "source": [
        "(train_input, train_target), (test_input, test_target) = keras.datasets.mnist.load_data()"
      ],
      "metadata": {
        "id": "k159_SvmS1lA"
      },
      "execution_count": 2,
      "outputs": []
    },
    {
      "cell_type": "code",
      "source": [
        "print(train_input.shape, train_target.shape)"
      ],
      "metadata": {
        "colab": {
          "base_uri": "https://localhost:8080/"
        },
        "id": "PpKaxctATMBr",
        "outputId": "07838a53-f7b0-464f-d67c-4726cb208d56"
      },
      "execution_count": 3,
      "outputs": [
        {
          "output_type": "stream",
          "name": "stdout",
          "text": [
            "(60000, 28, 28) (60000,)\n"
          ]
        }
      ]
    },
    {
      "cell_type": "code",
      "source": [
        "train_scaled = train_input.reshape(-1,28,28,1) / 255.0\n",
        "test_scaled = test_input.reshape(-1,28,28,1) / 255.0"
      ],
      "metadata": {
        "id": "KaJDCECOXEVq"
      },
      "execution_count": 4,
      "outputs": []
    },
    {
      "cell_type": "code",
      "source": [
        "train_scaled, val_scaled, train_target, val_target = train_test_split(train_scaled, train_target, test_size=0.2)"
      ],
      "metadata": {
        "id": "gXEH39sPbCgy"
      },
      "execution_count": 5,
      "outputs": []
    },
    {
      "cell_type": "code",
      "source": [
        "model = keras.Sequential()\n",
        "model.add(keras.layers.Conv2D(6, kernel_size=5, padding='same', activation='sigmoid',input_shape=(28,28,1)))\n",
        "model.add(keras.layers.AveragePooling2D(2))"
      ],
      "metadata": {
        "id": "ltrBcmWtTUko"
      },
      "execution_count": 6,
      "outputs": []
    },
    {
      "cell_type": "code",
      "source": [
        "model.add(keras.layers.Conv2D(16, kernel_size=5, padding='valid', activation='sigmoid'))\n",
        "model.add(keras.layers.AveragePooling2D(pool_size=(2)))"
      ],
      "metadata": {
        "id": "RpRcJto4V3Sw"
      },
      "execution_count": 7,
      "outputs": []
    },
    {
      "cell_type": "code",
      "source": [
        "model.add(keras.layers.Conv2D(120, kernel_size=5, padding='valid', activation='sigmoid'))\n",
        "model.add(keras.layers.Dense(100, activation='sigmoid'))\n",
        "model.add(keras.layers.Dense(10, activation='softmax'))"
      ],
      "metadata": {
        "id": "1ktp9x1kWPoG"
      },
      "execution_count": 8,
      "outputs": []
    },
    {
      "cell_type": "code",
      "source": [
        "model.summary()"
      ],
      "metadata": {
        "colab": {
          "base_uri": "https://localhost:8080/"
        },
        "id": "GooXBAU3dgjR",
        "outputId": "9c8ab8d6-9a0d-422c-8baf-e444a89426d5"
      },
      "execution_count": 9,
      "outputs": [
        {
          "output_type": "stream",
          "name": "stdout",
          "text": [
            "Model: \"sequential\"\n",
            "_________________________________________________________________\n",
            " Layer (type)                Output Shape              Param #   \n",
            "=================================================================\n",
            " conv2d (Conv2D)             (None, 28, 28, 6)         156       \n",
            "                                                                 \n",
            " average_pooling2d (AverageP  (None, 14, 14, 6)        0         \n",
            " ooling2D)                                                       \n",
            "                                                                 \n",
            " conv2d_1 (Conv2D)           (None, 10, 10, 16)        2416      \n",
            "                                                                 \n",
            " average_pooling2d_1 (Averag  (None, 5, 5, 16)         0         \n",
            " ePooling2D)                                                     \n",
            "                                                                 \n",
            " conv2d_2 (Conv2D)           (None, 1, 1, 120)         48120     \n",
            "                                                                 \n",
            " dense (Dense)               (None, 1, 1, 100)         12100     \n",
            "                                                                 \n",
            " dense_1 (Dense)             (None, 1, 1, 10)          1010      \n",
            "                                                                 \n",
            "=================================================================\n",
            "Total params: 63,802\n",
            "Trainable params: 63,802\n",
            "Non-trainable params: 0\n",
            "_________________________________________________________________\n"
          ]
        }
      ]
    },
    {
      "cell_type": "code",
      "source": [
        "model.compile(optimizer='adam', loss='sparse_categorical_crossentropy', metrics='accuracy') \n",
        "# sparse를 쓰지 않으면 오류 발생(목표값이 원핫인코딩되지 않아서 sparse를 써줘야함 )\n",
        "# (오류내용 빨리 검색해보기. 생각보다 나랑 같은 문제를 겪은 사람이 많음)"
      ],
      "metadata": {
        "id": "NooDun38W8-w"
      },
      "execution_count": 10,
      "outputs": []
    },
    {
      "cell_type": "code",
      "source": [
        "checkpoint_cb = keras.callbacks.ModelCheckpoint('best_lenet_5.h5', save_best_only=True)\n",
        "early_stopping_cb = keras.callbacks.EarlyStopping(patience=2, restore_best_weights=True)"
      ],
      "metadata": {
        "id": "8g54z83EkuOe"
      },
      "execution_count": 11,
      "outputs": []
    },
    {
      "cell_type": "code",
      "source": [
        "history = model.fit(train_scaled, train_target, epochs=20, validation_data=(val_scaled, val_target),\n",
        "                    callbacks=[checkpoint_cb, early_stopping_cb])"
      ],
      "metadata": {
        "colab": {
          "base_uri": "https://localhost:8080/"
        },
        "id": "oB_hhMuwaxCE",
        "outputId": "d188ea3a-8bc3-4cb9-88d1-69470b7a1ee5"
      },
      "execution_count": 12,
      "outputs": [
        {
          "output_type": "stream",
          "name": "stdout",
          "text": [
            "Epoch 1/20\n",
            "1500/1500 [==============================] - 15s 7ms/step - loss: 0.9063 - accuracy: 0.1200 - val_loss: 0.3053 - val_accuracy: 0.1248\n",
            "Epoch 2/20\n",
            "1500/1500 [==============================] - 6s 4ms/step - loss: 0.2272 - accuracy: 0.1262 - val_loss: 0.1764 - val_accuracy: 0.1258\n",
            "Epoch 3/20\n",
            "1500/1500 [==============================] - 6s 4ms/step - loss: 0.1499 - accuracy: 0.1268 - val_loss: 0.1520 - val_accuracy: 0.1259\n",
            "Epoch 4/20\n",
            "1500/1500 [==============================] - 6s 4ms/step - loss: 0.1119 - accuracy: 0.1273 - val_loss: 0.1104 - val_accuracy: 0.1265\n",
            "Epoch 5/20\n",
            "1500/1500 [==============================] - 6s 4ms/step - loss: 0.0907 - accuracy: 0.1281 - val_loss: 0.0851 - val_accuracy: 0.1268\n",
            "Epoch 6/20\n",
            "1500/1500 [==============================] - 6s 4ms/step - loss: 0.0756 - accuracy: 0.1280 - val_loss: 0.0977 - val_accuracy: 0.1268\n",
            "Epoch 7/20\n",
            "1500/1500 [==============================] - 6s 4ms/step - loss: 0.0671 - accuracy: 0.1277 - val_loss: 0.0797 - val_accuracy: 0.1267\n",
            "Epoch 8/20\n",
            "1500/1500 [==============================] - 6s 4ms/step - loss: 0.0598 - accuracy: 0.1277 - val_loss: 0.0741 - val_accuracy: 0.1268\n",
            "Epoch 9/20\n",
            "1500/1500 [==============================] - 6s 4ms/step - loss: 0.0527 - accuracy: 0.1282 - val_loss: 0.0659 - val_accuracy: 0.1268\n",
            "Epoch 10/20\n",
            "1500/1500 [==============================] - 6s 4ms/step - loss: 0.0482 - accuracy: 0.1280 - val_loss: 0.0593 - val_accuracy: 0.1269\n",
            "Epoch 11/20\n",
            "1500/1500 [==============================] - 6s 4ms/step - loss: 0.0439 - accuracy: 0.1284 - val_loss: 0.0596 - val_accuracy: 0.1270\n",
            "Epoch 12/20\n",
            "1500/1500 [==============================] - 7s 5ms/step - loss: 0.0401 - accuracy: 0.1279 - val_loss: 0.0547 - val_accuracy: 0.1269\n",
            "Epoch 13/20\n",
            "1500/1500 [==============================] - 6s 4ms/step - loss: 0.0365 - accuracy: 0.1283 - val_loss: 0.0611 - val_accuracy: 0.1270\n",
            "Epoch 14/20\n",
            "1500/1500 [==============================] - 6s 4ms/step - loss: 0.0333 - accuracy: 0.1277 - val_loss: 0.0575 - val_accuracy: 0.1269\n"
          ]
        }
      ]
    },
    {
      "cell_type": "code",
      "source": [
        "import matplotlib.pyplot as plt\n",
        "\n",
        "plt.figure(figsize=(20,15))\n",
        "plt.plot(history.history['loss'])\n",
        "plt.plot(history.history['val_loss'])\n",
        "plt.xlabel('epochs')\n",
        "plt.ylabel('loss')\n",
        "plt.legend(['train', 'val'])\n",
        "plt.show()"
      ],
      "metadata": {
        "colab": {
          "base_uri": "https://localhost:8080/",
          "height": 480
        },
        "id": "MkvdThb7jojy",
        "outputId": "90cf774e-4ea8-48eb-8e69-4c852f7adaf8"
      },
      "execution_count": 13,
      "outputs": [
        {
          "output_type": "display_data",
          "data": {
            "text/plain": [
              "<Figure size 1440x1080 with 1 Axes>"
            ],
            "image/png": "[encoded data removed]"
          },
          "metadata": {
            "needs_background": "light"
          }
        }
      ]
    },
    {
      "cell_type": "code",
      "source": [
        "model.evaluate(test_scaled, test_target)"
      ],
      "metadata": {
        "colab": {
          "base_uri": "https://localhost:8080/"
        },
        "id": "aTsXy--QkSld",
        "outputId": "56f0ae85-69e9-4629-8d38-7b3b98f6cf1a"
      },
      "execution_count": 14,
      "outputs": [
        {
          "output_type": "stream",
          "name": "stdout",
          "text": [
            "313/313 [==============================] - 1s 4ms/step - loss: 0.0466 - accuracy: 0.1227\n"
          ]
        },
        {
          "output_type": "execute_result",
          "data": {
            "text/plain": [
              "[0.04661138728260994, 0.1227075383067131]"
            ]
          },
          "metadata": {},
          "execution_count": 14
        }
      ]
    }
  ]
}