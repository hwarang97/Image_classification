{
  "nbformat": 4,
  "nbformat_minor": 0,
  "metadata": {
    "colab": {
      "provenance": [],
      "machine_shape": "hm",
      "authorship_tag": "ABX9TyO2I31o8m/sV/YV1cUxrZv4",
      "include_colab_link": true
    },
    "kernelspec": {
      "name": "python3",
      "display_name": "Python 3"
    },
    "language_info": {
      "name": "python"
    },
    "accelerator": "GPU",
    "gpuClass": "premium"
  },
  "cells": [
    {
      "cell_type": "markdown",
      "metadata": {
        "id": "view-in-github",
        "colab_type": "text"
      },
      "source": [
        "<a href=\"https://colab.research.google.com/github/hwarang97/Image_classification/blob/main/VGG16_pytorch.ipynb\" target=\"_parent\"><img src=\"https://colab.research.google.com/assets/colab-badge.svg\" alt=\"Open In Colab\"/></a>"
      ]
    },
    {
      "cell_type": "code",
      "execution_count": 30,
      "metadata": {
        "id": "y4ku3Bb97bk1"
      },
      "outputs": [],
      "source": [
        "from torch.nn.modules.activation import Softmax\n",
        "import torch\n",
        "from torch import nn \n",
        "from torch.utils.data import DataLoader\n",
        "from torchvision import datasets\n",
        "from torchvision.transforms import ToTensor, Lambda\n",
        "\n",
        "import torch.nn.functional as F\n",
        "\n",
        "device = 'cuda' if torch.cuda.is_available() else 'cpu'"
      ]
    },
    {
      "cell_type": "code",
      "source": [
        "training_data = datasets.MNIST(\n",
        "    root='data',\n",
        "    train=True,\n",
        "    download=True,\n",
        "    transform=ToTensor() # 이미지, 배열을 텐서로 변경하고, 픽셀값을 정규하시켜줌\n",
        ")\n",
        "\n",
        "test_data = datasets.MNIST(\n",
        "    root='data',\n",
        "    train=False,\n",
        "    download=True,\n",
        "    transform=ToTensor() \n",
        ")\n",
        "\n",
        "train_dataloader = DataLoader(training_data, batch_size=128) # batch_size를 128로 지정하니 정확도가 5퍼대로 나와서 다시 1로 바꿔서 해보는중\n",
        "test_dataloader = DataLoader(test_data, batch_size=128)\n",
        "\n",
        "class VGG(nn.Module):\n",
        "  def __init__(self):\n",
        "    super().__init__()\n",
        "    self.flatten = nn.Flatten()\n",
        "    self.conv_relu_stack = nn.Sequential(\n",
        "        nn.Conv2d(1, 6, 5, padding=2), # input 1*28*28, zero_padding=2, output 6*28*28, same padding\n",
        "        nn.Sigmoid(),\n",
        "        nn.AvgPool2d(2),\n",
        "        nn.Conv2d(6, 16, 5),\n",
        "        nn.Sigmoid(),\n",
        "        nn.AvgPool2d(2),\n",
        "    )\n",
        "\n",
        "    self.linear_relu_stack = nn.Sequential(\n",
        "      nn.Linear(16*5*5, 84),\n",
        "      nn.Sigmoid(),\n",
        "      nn.Linear(84, 10)\n",
        "    )\n",
        "\n",
        "  def forward(self, x):\n",
        "    x1 = self.conv_relu_stack(x)\n",
        "    x2 = self.flatten(x1)\n",
        "    logits = self.linear_relu_stack(x2)\n",
        "    return logits"
      ],
      "metadata": {
        "id": "4SBroAni8BUI"
      },
      "execution_count": 98,
      "outputs": []
    },
    {
      "cell_type": "markdown",
      "source": [
        "### 사이즈 오류\n",
        "\n",
        "- mat1 and mat2 shapes cannot be multiplied (128x400 and 784x84) \n",
        "\n",
        "---\n",
        "\n",
        "- batch_size x flattend pixels, input_pixcels x output_channels\n",
        "\n",
        "---\n",
        "\n",
        "- 400과 input_pixcels가 동일해야함"
      ],
      "metadata": {
        "id": "YpGKkS4xHeQY"
      }
    },
    {
      "cell_type": "code",
      "source": [
        "import matplotlib.pyplot as plt\n",
        "\n",
        "# 데이터셋이 제대로 들어갔는지 시각화해서 확인\n",
        "\n",
        "labels_map = {\n",
        "    0: 'T-Shirt',\n",
        "    1: 'Trouser',\n",
        "    2: 'Pullover',\n",
        "    3: 'Dress',\n",
        "    4: 'Coat',\n",
        "    5: 'Sandal',\n",
        "    6: 'Shirt',\n",
        "    7: 'Sneaker',\n",
        "    8: 'Bag',\n",
        "    9: 'Ankle Boot',\n",
        "}\n",
        "\n",
        "figure = plt.figure(figsize=(8,8))\n",
        "cols, rows = 3, 3\n",
        "for i in range(1, rows*cols+1):\n",
        "  sample_idx = torch.randint(len(training_data), size=(1,)).item() # Tensor에서 값이 하나만 있는 걸 꺼낼때 사용\n",
        "  img, label = training_data[sample_idx]\n",
        "  figure.add_subplot(rows, cols, i)\n",
        "  plt.title(labels_map[label])\n",
        "  plt.axis('off') # 축 눈금등을 없애주는 메소드, 기본값:True\n",
        "  plt.imshow(img.squeeze(), cmap='gray')\n",
        "plt.show()"
      ],
      "metadata": {
        "colab": {
          "base_uri": "https://localhost:8080/",
          "height": 482
        },
        "id": "qr0mMKNU-9w-",
        "outputId": "930f885c-9c3a-4066-b581-5e3f657b1ae5"
      },
      "execution_count": 32,
      "outputs": [
        {
          "output_type": "display_data",
          "data": {
            "text/plain": [
              "<Figure size 576x576 with 9 Axes>"
            ],
            "image/png": "[encoded data removed]"
          },
          "metadata": {
            "needs_background": "light"
          }
        }
      ]
    },
    {
      "cell_type": "code",
      "source": [
        "# 데이터 갯수 확인\n",
        "len(training_data), len(test_data)"
      ],
      "metadata": {
        "colab": {
          "base_uri": "https://localhost:8080/"
        },
        "id": "_yASaJCs_O_Q",
        "outputId": "1943e9d2-267c-4d7e-de93-ca1078e61b19"
      },
      "execution_count": 33,
      "outputs": [
        {
          "output_type": "execute_result",
          "data": {
            "text/plain": [
              "(60000, 10000)"
            ]
          },
          "metadata": {},
          "execution_count": 33
        }
      ]
    },
    {
      "cell_type": "code",
      "source": [
        "# dataloader로도 확인할 수 있음\n",
        "print(train_dataloader.dataset, test_dataloader.dataset)"
      ],
      "metadata": {
        "id": "bQG1yTphAPwa",
        "outputId": "9c370b2d-dfb5-45fa-d790-57178dd7ce8c",
        "colab": {
          "base_uri": "https://localhost:8080/"
        }
      },
      "execution_count": 34,
      "outputs": [
        {
          "output_type": "stream",
          "name": "stdout",
          "text": [
            "Dataset FashionMNIST\n",
            "    Number of datapoints: 60000\n",
            "    Root location: data\n",
            "    Split: Train\n",
            "    StandardTransform\n",
            "Transform: ToTensor() Dataset MNIST\n",
            "    Number of datapoints: 10000\n",
            "    Root location: data\n",
            "    Split: Test\n",
            "    StandardTransform\n",
            "Transform: ToTensor()\n"
          ]
        }
      ]
    },
    {
      "cell_type": "code",
      "source": [
        "len(train_dataloader.dataset)"
      ],
      "metadata": {
        "id": "cWF58FGQA1Ko",
        "outputId": "32d7fa8a-b391-4c81-a9f5-d894062eb670",
        "colab": {
          "base_uri": "https://localhost:8080/"
        }
      },
      "execution_count": 35,
      "outputs": [
        {
          "output_type": "execute_result",
          "data": {
            "text/plain": [
              "60000"
            ]
          },
          "metadata": {},
          "execution_count": 35
        }
      ]
    },
    {
      "cell_type": "code",
      "source": [
        "# batch 수를 알아내는 방법 (60000 / 128 = 468.75)\n",
        "len(train_dataloader)"
      ],
      "metadata": {
        "id": "MHqLT7W_BDCI",
        "outputId": "b68f1cf3-3d69-459f-db45-d28a7927a268",
        "colab": {
          "base_uri": "https://localhost:8080/"
        }
      },
      "execution_count": 36,
      "outputs": [
        {
          "output_type": "execute_result",
          "data": {
            "text/plain": [
              "469"
            ]
          },
          "metadata": {},
          "execution_count": 36
        }
      ]
    },
    {
      "cell_type": "code",
      "source": [
        "def train_loop(dataloader, model, loss_fn, optimizer):\n",
        "  size = len(dataloader.dataset) # train dataset size\n",
        "  for batch, (X, y) in enumerate(dataloader, 1):\n",
        "\n",
        "    X = X.to(device)\n",
        "    y = y.to(device)\n",
        "    pred = model(X)\n",
        "    loss = loss_fn(pred, y)\n",
        "\n",
        "    optimizer.zero_grad()\n",
        "    loss.backward()\n",
        "    optimizer.step()\n",
        "\n",
        "    if batch % 128 * 100 == 0:\n",
        "      loss, current = loss.item(), batch * len(X)\n",
        "      print(f'loss: {loss:>7f} [{current:>5d}/{size:>5d}]')\n",
        "\n",
        "def test_loop(dataloader, model, loss_fn):\n",
        "  size = len(dataloader.dataset)\n",
        "  num_batches = len(dataloader)\n",
        "  test_loss, correct = 0, 0\n",
        "\n",
        "  with torch.no_grad():\n",
        "    for X, y in dataloader:\n",
        "      X = X.to(device)\n",
        "      y = y.to(device)\n",
        "      pred = model(X)\n",
        "      test_loss += loss_fn(pred, y).item()\n",
        "      correct += (pred.argmax(1) == y).type(torch.float).sum().item()\n",
        "\n",
        "  test_loss /= num_batches\n",
        "  correct /= size\n",
        "  print(f'Test Error: \\n Accuracy: {(100*correct):>0.1f}%, Avg loss: {test_loss:>8f} \\n')"
      ],
      "metadata": {
        "id": "lIQ8bTqxDOBJ"
      },
      "execution_count": 101,
      "outputs": []
    },
    {
      "cell_type": "code",
      "source": [
        "model = VGG().to(device)\n",
        "print(model)"
      ],
      "metadata": {
        "colab": {
          "base_uri": "https://localhost:8080/"
        },
        "id": "ZLDxctZ8Ivyg",
        "outputId": "5d61ce71-b5e6-4743-93b1-1e7ee3780a10"
      },
      "execution_count": 99,
      "outputs": [
        {
          "output_type": "stream",
          "name": "stdout",
          "text": [
            "VGG(\n",
            "  (flatten): Flatten(start_dim=1, end_dim=-1)\n",
            "  (conv_relu_stack): Sequential(\n",
            "    (0): Conv2d(1, 6, kernel_size=(5, 5), stride=(1, 1), padding=(2, 2))\n",
            "    (1): Sigmoid()\n",
            "    (2): AvgPool2d(kernel_size=2, stride=2, padding=0)\n",
            "    (3): Conv2d(6, 16, kernel_size=(5, 5), stride=(1, 1))\n",
            "    (4): Sigmoid()\n",
            "    (5): AvgPool2d(kernel_size=2, stride=2, padding=0)\n",
            "  )\n",
            "  (linear_relu_stack): Sequential(\n",
            "    (0): Linear(in_features=400, out_features=84, bias=True)\n",
            "    (1): Sigmoid()\n",
            "    (2): Linear(in_features=84, out_features=10, bias=True)\n",
            "  )\n",
            ")\n"
          ]
        }
      ]
    },
    {
      "cell_type": "code",
      "source": [
        "learning_rate = 1e-1\n",
        "epochs = 15\n",
        "\n",
        "loss_fn = nn.CrossEntropyLoss()\n",
        "optimizer = torch.optim.SGD(model.parameters(), lr=learning_rate)\n",
        "\n",
        "for t in range(epochs):\n",
        "  print(f'Epoch {t+1}\\n-----------------------------------')\n",
        "  train_loop(train_dataloader, model, loss_fn, optimizer)\n",
        "  test_loop(test_dataloader, model, loss_fn)\n",
        "print('Done!!!')"
      ],
      "metadata": {
        "colab": {
          "base_uri": "https://localhost:8080/"
        },
        "id": "ETUBuGVh8f12",
        "outputId": "2e6ff6a9-fb2e-4f1b-ab3c-f875cf30c013"
      },
      "execution_count": 104,
      "outputs": [
        {
          "output_type": "stream",
          "name": "stdout",
          "text": [
            "Epoch 1\n",
            "-----------------------------------\n",
            "loss: 2.288726 [16384/60000]\n",
            "loss: 2.305648 [32768/60000]\n",
            "loss: 2.306978 [49152/60000]\n",
            "Test Error: \n",
            " Accuracy: 10.3%, Avg loss: 2.301440 \n",
            "\n",
            "Epoch 2\n",
            "-----------------------------------\n",
            "loss: 2.289125 [16384/60000]\n",
            "loss: 2.305042 [32768/60000]\n",
            "loss: 2.305590 [49152/60000]\n",
            "Test Error: \n",
            " Accuracy: 10.3%, Avg loss: 2.300976 \n",
            "\n",
            "Epoch 3\n",
            "-----------------------------------\n",
            "loss: 2.289261 [16384/60000]\n",
            "loss: 2.304478 [32768/60000]\n",
            "loss: 2.304194 [49152/60000]\n",
            "Test Error: \n",
            " Accuracy: 10.3%, Avg loss: 2.300149 \n",
            "\n",
            "Epoch 4\n",
            "-----------------------------------\n",
            "loss: 2.288776 [16384/60000]\n",
            "loss: 2.303520 [32768/60000]\n",
            "loss: 2.302272 [49152/60000]\n",
            "Test Error: \n",
            " Accuracy: 10.3%, Avg loss: 2.298116 \n",
            "\n",
            "Epoch 5\n",
            "-----------------------------------\n",
            "loss: 2.286195 [16384/60000]\n",
            "loss: 2.300379 [32768/60000]\n",
            "loss: 2.296937 [49152/60000]\n",
            "Test Error: \n",
            " Accuracy: 20.1%, Avg loss: 2.289325 \n",
            "\n",
            "Epoch 6\n",
            "-----------------------------------\n",
            "loss: 2.269079 [16384/60000]\n",
            "loss: 2.273980 [32768/60000]\n",
            "loss: 2.224982 [49152/60000]\n",
            "Test Error: \n",
            " Accuracy: 41.4%, Avg loss: 2.093162 \n",
            "\n",
            "Epoch 7\n",
            "-----------------------------------\n",
            "loss: 1.723449 [16384/60000]\n",
            "loss: 1.467410 [32768/60000]\n",
            "loss: 1.163909 [49152/60000]\n",
            "Test Error: \n",
            " Accuracy: 75.7%, Avg loss: 0.890591 \n",
            "\n",
            "Epoch 8\n",
            "-----------------------------------\n",
            "loss: 0.709533 [16384/60000]\n",
            "loss: 0.638055 [32768/60000]\n",
            "loss: 0.673690 [49152/60000]\n",
            "Test Error: \n",
            " Accuracy: 83.7%, Avg loss: 0.553760 \n",
            "\n",
            "Epoch 9\n",
            "-----------------------------------\n",
            "loss: 0.459427 [16384/60000]\n",
            "loss: 0.439661 [32768/60000]\n",
            "loss: 0.540356 [49152/60000]\n",
            "Test Error: \n",
            " Accuracy: 86.9%, Avg loss: 0.435207 \n",
            "\n",
            "Epoch 10\n",
            "-----------------------------------\n",
            "loss: 0.359663 [16384/60000]\n",
            "loss: 0.350120 [32768/60000]\n",
            "loss: 0.466929 [49152/60000]\n",
            "Test Error: \n",
            " Accuracy: 88.9%, Avg loss: 0.369763 \n",
            "\n",
            "Epoch 11\n",
            "-----------------------------------\n",
            "loss: 0.310825 [16384/60000]\n",
            "loss: 0.302675 [32768/60000]\n",
            "loss: 0.420240 [49152/60000]\n",
            "Test Error: \n",
            " Accuracy: 90.1%, Avg loss: 0.329616 \n",
            "\n",
            "Epoch 12\n",
            "-----------------------------------\n",
            "loss: 0.282702 [16384/60000]\n",
            "loss: 0.273921 [32768/60000]\n",
            "loss: 0.386609 [49152/60000]\n",
            "Test Error: \n",
            " Accuracy: 90.8%, Avg loss: 0.301504 \n",
            "\n",
            "Epoch 13\n",
            "-----------------------------------\n",
            "loss: 0.263063 [16384/60000]\n",
            "loss: 0.253619 [32768/60000]\n",
            "loss: 0.359588 [49152/60000]\n",
            "Test Error: \n",
            " Accuracy: 91.4%, Avg loss: 0.279673 \n",
            "\n",
            "Epoch 14\n",
            "-----------------------------------\n",
            "loss: 0.247638 [16384/60000]\n",
            "loss: 0.237811 [32768/60000]\n",
            "loss: 0.336641 [49152/60000]\n",
            "Test Error: \n",
            " Accuracy: 91.9%, Avg loss: 0.261621 \n",
            "\n",
            "Epoch 15\n",
            "-----------------------------------\n",
            "loss: 0.234619 [16384/60000]\n",
            "loss: 0.224757 [32768/60000]\n",
            "loss: 0.316534 [49152/60000]\n",
            "Test Error: \n",
            " Accuracy: 92.3%, Avg loss: 0.246154 \n",
            "\n",
            "Done!!!\n"
          ]
        }
      ]
    },
    {
      "cell_type": "markdown",
      "source": [
        "### 배치 사이즈에 따른 학습 성능\n",
        "\n",
        "- batsize\n",
        "  - 1 : 10epoch 기준으로 무난히 학습되며 91퍼 기록\n",
        "  - 128 : \n",
        "    - 10epoch, 학습률 0.001 기준으로 학습이 거의 안됨 (5퍼 기록)\n",
        "    - 30epoch, 학습률 0.001 기준으로도 학습이 거의 안됨 (11퍼 기록)\n",
        "    - 15epoch, 학습률 0.1 기준으로 성능이 매우 뛰어남 (92.3퍼), 속도도 빠르고 성능도 금방 얻을 수 있었음\n",
        "---\n",
        "배치 사이즈가 클수록 일반적인 모델이 되며, 과적합이 일어날 수 있는것같다.\n",
        "\n",
        "반면, 배치 사이즈가 작으면 불안정하게 수렴하게 되고 불안정한것이 노이즈가 되어 오버피팅되는것을 막는 효과를 줄 수 있다고 한다.\n",
        "\n",
        "---\n",
        "배치 사이즈가 큰데, 성능이 잘 안나온다? -> 학습률을 올려라\n",
        "(참고하는 데이터가 많으니까 특출하게 오차가 많은 것들이 없어저서 조그만한 차이를 크게 볼 수 있어야한듯)\n",
        "\n",
        "반대로 배치 사이즈가 작으면, 학습률을 낮추면 될듯"
      ],
      "metadata": {
        "id": "-JjFOBrbPGc0"
      }
    },
    {
      "cell_type": "code",
      "source": [],
      "metadata": {
        "id": "8utLJRjnUAiF"
      },
      "execution_count": null,
      "outputs": []
    }
  ]
}