{
  "nbformat": 4,
  "nbformat_minor": 0,
  "metadata": {
    "colab": {
      "provenance": [],
      "machine_shape": "hm",
      "authorship_tag": "ABX9TyPJsHRV8oSi6H8g9Xmsbuel",
      "include_colab_link": true
    },
    "kernelspec": {
      "name": "python3",
      "display_name": "Python 3"
    },
    "language_info": {
      "name": "python"
    },
    "accelerator": "GPU",
    "gpuClass": "premium"
  },
  "cells": [
    {
      "cell_type": "markdown",
      "metadata": {
        "id": "view-in-github",
        "colab_type": "text"
      },
      "source": [
        "<a href=\"https://colab.research.google.com/github/hwarang97/Image_classification/blob/main/VGG16_pytorch.ipynb\" target=\"_parent\"><img src=\"https://colab.research.google.com/assets/colab-badge.svg\" alt=\"Open In Colab\"/></a>"
      ]
    },
    {
      "cell_type": "code",
      "execution_count": null,
      "metadata": {
        "id": "y4ku3Bb97bk1"
      },
      "outputs": [],
      "source": [
        "from torch.nn.modules.activation import Softmax\n",
        "import torch\n",
        "from torch import nn \n",
        "from torch.utils.data import DataLoader\n",
        "from torchvision import datasets\n",
        "from torchvision import transforms\n",
        "\n",
        "import torch.nn.functional as F\n",
        "\n",
        "device = 'cuda' if torch.cuda.is_available() else 'cpu'"
      ]
    },
    {
      "cell_type": "code",
      "source": [
        "from torch.nn.modules.pooling import MaxPool2d\n",
        "training_data = datasets.FashionMNIST(\n",
        "    root='data',\n",
        "    train=True,\n",
        "    download=True,\n",
        "    transform=transforms.Compose([\n",
        "        transforms.ToTensor(),\n",
        "        transforms.Resize(224)\n",
        "        ])\n",
        "                          # 이미지, 배열을 텐서로 변경하고, 픽셀값을 정규하시켜줌\n",
        ")\n",
        "\n",
        "test_data = datasets.FashionMNIST(\n",
        "    root='data',\n",
        "    train=False,\n",
        "    download=True,\n",
        "    transform=transforms.Compose([\n",
        "        transforms.ToTensor(),\n",
        "        transforms.Resize(224)\n",
        "        ]) \n",
        ")\n",
        "\n",
        "train_dataloader = DataLoader(training_data, batch_size=128)\n",
        "test_dataloader = DataLoader(test_data, batch_size=128)\n",
        "\n",
        "class VGG(nn.Module):\n",
        "  def __init__(self):\n",
        "    super().__init__()\n",
        "    self.flatten = nn.Flatten()\n",
        "    self.conv_relu_stack = nn.Sequential(\n",
        "        nn.Conv2d(1, 64, 3, padding=1), # input 1*224*224\n",
        "        nn.ReLU(),\n",
        "        nn.Conv2d(64, 64, 3, padding=1),\n",
        "        nn.ReLU(),\n",
        "        nn.MaxPool2d(2),\n",
        "        nn.Conv2d(64, 128, 3, padding=1), # 1*112\n",
        "        nn.ReLU(),\n",
        "        nn.Conv2d(128, 128, 3, padding=1),\n",
        "        nn.ReLU(),\n",
        "        nn.MaxPool2d(2),\n",
        "        nn.Conv2d(128, 256, 3, padding=1), # 1*56\n",
        "        nn.ReLU(),\n",
        "        nn.Conv2d(256, 256, 3, padding=1),\n",
        "        nn.ReLU(),\n",
        "        nn.Conv2d(256, 256, 3, padding=1),\n",
        "        nn.ReLU(),\n",
        "        nn.MaxPool2d(2),\n",
        "        nn.Conv2d(256, 512, 3, padding=1), # 1*28\n",
        "        nn.ReLU(),\n",
        "        nn.Conv2d(512, 512, 3, padding=1),\n",
        "        nn.ReLU(), \n",
        "        nn.Conv2d(512, 512, 3, padding=1), \n",
        "        nn.ReLU(),\n",
        "        nn.MaxPool2d(2),\n",
        "        nn.Conv2d(512, 512, 3, padding=1), # 1*14\n",
        "        nn.ReLU(), \n",
        "        nn.Conv2d(512, 512, 3, padding=1),\n",
        "        nn.ReLU(),\n",
        "        nn.Conv2d(512, 512, 3, padding=1), \n",
        "        nn.ReLU(),\n",
        "        nn.MaxPool2d(2), # 1* 7\n",
        "    )\n",
        "\n",
        "    self.linear_relu_stack = nn.Sequential(\n",
        "      nn.Linear(7*7*512, 4096),\n",
        "      nn.ReLU(),\n",
        "      nn.Linear(4096, 1024),\n",
        "      nn.ReLU(),\n",
        "      nn.Linear(1024, 10)\n",
        "    )\n",
        "\n",
        "  def forward(self, x):\n",
        "    x1 = self.conv_relu_stack(x)\n",
        "    x2 = self.flatten(x1)\n",
        "    logits = self.linear_relu_stack(x2)\n",
        "    return logits"
      ],
      "metadata": {
        "id": "4SBroAni8BUI"
      },
      "execution_count": null,
      "outputs": []
    },
    {
      "cell_type": "markdown",
      "source": [
        "### 사이즈 오류\n",
        "\n",
        "- mat1 and mat2 shapes cannot be multiplied (128x400 and 784x84) \n",
        "\n",
        "---\n",
        "\n",
        "- batch_size x flattend pixels, input_pixcels x output_channels\n",
        "\n",
        "---\n",
        "\n",
        "- 400과 input_pixcels가 동일해야함"
      ],
      "metadata": {
        "id": "YpGKkS4xHeQY"
      }
    },
    {
      "cell_type": "code",
      "source": [
        "import matplotlib.pyplot as plt\n",
        "\n",
        "# 데이터셋이 제대로 들어갔는지 시각화해서 확인\n",
        "\n",
        "labels_map = {\n",
        "    0: 'T-Shirt',\n",
        "    1: 'Trouser',\n",
        "    2: 'Pullover',\n",
        "    3: 'Dress',\n",
        "    4: 'Coat',\n",
        "    5: 'Sandal',\n",
        "    6: 'Shirt',\n",
        "    7: 'Sneaker',\n",
        "    8: 'Bag',\n",
        "    9: 'Ankle Boot',\n",
        "}\n",
        "\n",
        "figure = plt.figure(figsize=(8,8))\n",
        "cols, rows = 3, 3\n",
        "for i in range(1, rows*cols+1):\n",
        "  sample_idx = torch.randint(len(training_data), size=(1,)).item() # Tensor에서 값이 하나만 있는 걸 꺼낼때 사용\n",
        "  img, label = training_data[sample_idx]\n",
        "  figure.add_subplot(rows, cols, i)\n",
        "  plt.title(labels_map[label])\n",
        "  plt.axis('off') # 축 눈금등을 없애주는 메소드, 기본값:True\n",
        "  plt.imshow(img.squeeze(), cmap='gray')\n",
        "plt.show()"
      ],
      "metadata": {
        "colab": {
          "base_uri": "https://localhost:8080/",
          "height": 482
        },
        "id": "qr0mMKNU-9w-",
        "outputId": "2897792f-9cd1-4d76-8304-4722d053730f"
      },
      "execution_count": null,
      "outputs": [
        {
          "output_type": "display_data",
          "data": {
            "text/plain": [
              "<Figure size 576x576 with 9 Axes>"
            ],
            "image/png": "[encoded data removed]"
          },
          "metadata": {
            "needs_background": "light"
          }
        }
      ]
    },
    {
      "cell_type": "code",
      "source": [
        "# 데이터 갯수 확인\n",
        "len(training_data), len(test_data)"
      ],
      "metadata": {
        "colab": {
          "base_uri": "https://localhost:8080/"
        },
        "id": "_yASaJCs_O_Q",
        "outputId": "7dd137c3-007f-4186-d68c-6ff59142d383"
      },
      "execution_count": null,
      "outputs": [
        {
          "output_type": "execute_result",
          "data": {
            "text/plain": [
              "(60000, 10000)"
            ]
          },
          "metadata": {},
          "execution_count": 4
        }
      ]
    },
    {
      "cell_type": "code",
      "source": [
        "# dataloader로도 확인할 수 있음\n",
        "\n",
        "# 방법1\n",
        "print(train_dataloader.dataset, test_dataloader.dataset)\n",
        "\n",
        "# 방법2\n",
        "len(train_dataloader.dataset)"
      ],
      "metadata": {
        "id": "bQG1yTphAPwa",
        "outputId": "0b7c4ed5-35d1-4577-97c2-64392cf9f411",
        "colab": {
          "base_uri": "https://localhost:8080/"
        }
      },
      "execution_count": null,
      "outputs": [
        {
          "output_type": "stream",
          "name": "stdout",
          "text": [
            "Dataset FashionMNIST\n",
            "    Number of datapoints: 60000\n",
            "    Root location: data\n",
            "    Split: Train\n",
            "    StandardTransform\n",
            "Transform: ToTensor() Dataset FashionMNIST\n",
            "    Number of datapoints: 10000\n",
            "    Root location: data\n",
            "    Split: Test\n",
            "    StandardTransform\n",
            "Transform: ToTensor()\n"
          ]
        },
        {
          "output_type": "execute_result",
          "data": {
            "text/plain": [
              "60000"
            ]
          },
          "metadata": {},
          "execution_count": 5
        }
      ]
    },
    {
      "cell_type": "code",
      "source": [
        "# 입력되는 이미지 크기 확인\n",
        "training_data[0][0].shape"
      ],
      "metadata": {
        "id": "M2TKtinV_FVY",
        "outputId": "24ca73fe-f997-4b64-a4e0-c3635c5550b4",
        "colab": {
          "base_uri": "https://localhost:8080/"
        }
      },
      "execution_count": null,
      "outputs": [
        {
          "output_type": "execute_result",
          "data": {
            "text/plain": [
              "torch.Size([1, 28, 28])"
            ]
          },
          "metadata": {},
          "execution_count": 6
        }
      ]
    },
    {
      "cell_type": "code",
      "source": [
        "# batch 수를 알아내는 방법 (60000 / 128 = 468.75)\n",
        "len(train_dataloader)"
      ],
      "metadata": {
        "id": "MHqLT7W_BDCI",
        "outputId": "b0317e9d-53a9-4079-dbef-790370dd972a",
        "colab": {
          "base_uri": "https://localhost:8080/"
        }
      },
      "execution_count": null,
      "outputs": [
        {
          "output_type": "execute_result",
          "data": {
            "text/plain": [
              "469"
            ]
          },
          "metadata": {},
          "execution_count": 7
        }
      ]
    },
    {
      "cell_type": "code",
      "source": [
        "def train_loop(dataloader, model, loss_fn, optimizer):\n",
        "  size = len(dataloader.dataset) # train dataset size\n",
        "  for batch, (X, y) in enumerate(dataloader, 1):\n",
        "\n",
        "    X = X.to(device)\n",
        "    y = y.to(device)\n",
        "    pred = model(X)\n",
        "    loss = loss_fn(pred, y)\n",
        "\n",
        "    optimizer.zero_grad()\n",
        "    loss.backward()\n",
        "    optimizer.step()\n",
        "\n",
        "    if batch % 128 * 100 == 0:\n",
        "      loss, current = loss.item(), batch * len(X)\n",
        "      print(f'loss: {loss:>7f} [{current:>5d}/{size:>5d}]')\n",
        "\n",
        "def test_loop(dataloader, model, loss_fn):\n",
        "  size = len(dataloader.dataset)\n",
        "  num_batches = len(dataloader)\n",
        "  test_loss, correct = 0, 0\n",
        "\n",
        "  with torch.no_grad():\n",
        "    for X, y in dataloader:\n",
        "      X = X.to(device)\n",
        "      y = y.to(device)\n",
        "      pred = model(X)\n",
        "      test_loss += loss_fn(pred, y).item()\n",
        "      correct += (pred.argmax(1) == y).type(torch.float).sum().item()\n",
        "\n",
        "  test_loss /= num_batches\n",
        "  correct /= size\n",
        "  print(f'Test Error: \\n Accuracy: {(100*correct):>0.1f}%, Avg loss: {test_loss:>8f} \\n')"
      ],
      "metadata": {
        "id": "lIQ8bTqxDOBJ"
      },
      "execution_count": null,
      "outputs": []
    },
    {
      "cell_type": "code",
      "source": [
        "model = VGG().to(device)\n",
        "print(model)"
      ],
      "metadata": {
        "colab": {
          "base_uri": "https://localhost:8080/"
        },
        "id": "ZLDxctZ8Ivyg",
        "outputId": "c9f0ff16-105b-45ae-bfb5-e34a36c51daa"
      },
      "execution_count": null,
      "outputs": [
        {
          "output_type": "stream",
          "name": "stdout",
          "text": [
            "VGG(\n",
            "  (flatten): Flatten(start_dim=1, end_dim=-1)\n",
            "  (conv_relu_stack): Sequential(\n",
            "    (0): Conv2d(1, 64, kernel_size=(3, 3), stride=(1, 1), padding=(1, 1))\n",
            "    (1): ReLU()\n",
            "    (2): MaxPool2d(kernel_size=2, stride=2, padding=0, dilation=1, ceil_mode=False)\n",
            "    (3): Conv2d(64, 128, kernel_size=(3, 3), stride=(1, 1), padding=(1, 1))\n",
            "    (4): ReLU()\n",
            "    (5): MaxPool2d(kernel_size=2, stride=2, padding=0, dilation=1, ceil_mode=False)\n",
            "    (6): Conv2d(128, 256, kernel_size=(3, 3), stride=(1, 1), padding=(1, 1))\n",
            "    (7): ReLU()\n",
            "    (8): MaxPool2d(kernel_size=2, stride=2, padding=0, dilation=1, ceil_mode=False)\n",
            "    (9): Conv2d(256, 512, kernel_size=(3, 3), stride=(1, 1), padding=(1, 1))\n",
            "    (10): ReLU()\n",
            "    (11): MaxPool2d(kernel_size=2, stride=2, padding=0, dilation=1, ceil_mode=False)\n",
            "    (12): Conv2d(512, 512, kernel_size=(3, 3), stride=(1, 1), padding=(1, 1))\n",
            "    (13): ReLU()\n",
            "    (14): MaxPool2d(kernel_size=2, stride=2, padding=0, dilation=1, ceil_mode=False)\n",
            "  )\n",
            "  (linear_relu_stack): Sequential(\n",
            "    (0): Linear(in_features=25088, out_features=4096, bias=True)\n",
            "    (1): ReLU()\n",
            "    (2): Linear(in_features=4096, out_features=1024, bias=True)\n",
            "    (3): ReLU()\n",
            "    (4): Linear(in_features=1024, out_features=10, bias=True)\n",
            "  )\n",
            ")\n"
          ]
        }
      ]
    },
    {
      "cell_type": "code",
      "source": [
        "learning_rate = 1e-1\n",
        "epochs = 15\n",
        "\n",
        "loss_fn = nn.CrossEntropyLoss()\n",
        "optimizer = torch.optim.SGD(model.parameters(), lr=learning_rate)\n",
        "\n",
        "for t in range(epochs):\n",
        "  print(f'Epoch {t+1}\\n-----------------------------------')\n",
        "  train_loop(train_dataloader, model, loss_fn, optimizer)\n",
        "  test_loop(test_dataloader, model, loss_fn)\n",
        "print('Done!!!')"
      ],
      "metadata": {
        "colab": {
          "base_uri": "https://localhost:8080/"
        },
        "id": "ETUBuGVh8f12",
        "outputId": "0c717185-1f9c-4993-b659-efdd8e425c1b"
      },
      "execution_count": null,
      "outputs": [
        {
          "output_type": "stream",
          "name": "stdout",
          "text": [
            "Epoch 1\n",
            "-----------------------------------\n",
            "loss: 1.748936 [16384/60000]\n",
            "loss: 0.639361 [32768/60000]\n",
            "loss: 0.566938 [49152/60000]\n",
            "Test Error: \n",
            " Accuracy: 81.8%, Avg loss: 0.488340 \n",
            "\n",
            "Epoch 2\n",
            "-----------------------------------\n",
            "loss: 0.414586 [16384/60000]\n",
            "loss: 0.300481 [32768/60000]\n",
            "loss: 0.402342 [49152/60000]\n",
            "Test Error: \n",
            " Accuracy: 86.7%, Avg loss: 0.358915 \n",
            "\n",
            "Epoch 3\n",
            "-----------------------------------\n",
            "loss: 0.352697 [16384/60000]\n",
            "loss: 0.230695 [32768/60000]\n",
            "loss: 0.328047 [49152/60000]\n",
            "Test Error: \n",
            " Accuracy: 88.5%, Avg loss: 0.304925 \n",
            "\n",
            "Epoch 4\n",
            "-----------------------------------\n",
            "loss: 0.330552 [16384/60000]\n",
            "loss: 0.189240 [32768/60000]\n",
            "loss: 0.264265 [49152/60000]\n",
            "Test Error: \n",
            " Accuracy: 89.6%, Avg loss: 0.276897 \n",
            "\n",
            "Epoch 5\n",
            "-----------------------------------\n",
            "loss: 0.307789 [16384/60000]\n",
            "loss: 0.159627 [32768/60000]\n",
            "loss: 0.212876 [49152/60000]\n",
            "Test Error: \n",
            " Accuracy: 90.1%, Avg loss: 0.271337 \n",
            "\n",
            "Epoch 6\n",
            "-----------------------------------\n",
            "loss: 0.233339 [16384/60000]\n",
            "loss: 0.147238 [32768/60000]\n",
            "loss: 0.175781 [49152/60000]\n",
            "Test Error: \n",
            " Accuracy: 90.1%, Avg loss: 0.279988 \n",
            "\n",
            "Epoch 7\n",
            "-----------------------------------\n",
            "loss: 0.179022 [16384/60000]\n",
            "loss: 0.110256 [32768/60000]\n",
            "loss: 0.132593 [49152/60000]\n",
            "Test Error: \n",
            " Accuracy: 90.0%, Avg loss: 0.294250 \n",
            "\n",
            "Epoch 8\n",
            "-----------------------------------\n",
            "loss: 0.101908 [16384/60000]\n",
            "loss: 0.081870 [32768/60000]\n",
            "loss: 0.135649 [49152/60000]\n",
            "Test Error: \n",
            " Accuracy: 90.2%, Avg loss: 0.325567 \n",
            "\n",
            "Epoch 9\n",
            "-----------------------------------\n",
            "loss: 0.261671 [16384/60000]\n",
            "loss: 0.132451 [32768/60000]\n",
            "loss: 0.140772 [49152/60000]\n",
            "Test Error: \n",
            " Accuracy: 90.7%, Avg loss: 0.285813 \n",
            "\n",
            "Epoch 10\n",
            "-----------------------------------\n",
            "loss: 0.217537 [16384/60000]\n",
            "loss: 0.121898 [32768/60000]\n",
            "loss: 0.075460 [49152/60000]\n",
            "Test Error: \n",
            " Accuracy: 90.8%, Avg loss: 0.324769 \n",
            "\n",
            "Epoch 11\n",
            "-----------------------------------\n",
            "loss: 0.117965 [16384/60000]\n",
            "loss: 0.077422 [32768/60000]\n",
            "loss: 0.060361 [49152/60000]\n",
            "Test Error: \n",
            " Accuracy: 90.7%, Avg loss: 0.349343 \n",
            "\n",
            "Epoch 12\n",
            "-----------------------------------\n",
            "loss: 0.070264 [16384/60000]\n",
            "loss: 0.067842 [32768/60000]\n",
            "loss: 0.060536 [49152/60000]\n",
            "Test Error: \n",
            " Accuracy: 90.6%, Avg loss: 0.389875 \n",
            "\n",
            "Epoch 13\n",
            "-----------------------------------\n",
            "loss: 0.072333 [16384/60000]\n",
            "loss: 0.044459 [32768/60000]\n",
            "loss: 0.192876 [49152/60000]\n",
            "Test Error: \n",
            " Accuracy: 90.9%, Avg loss: 0.376145 \n",
            "\n",
            "Epoch 14\n",
            "-----------------------------------\n",
            "loss: 0.027230 [16384/60000]\n",
            "loss: 0.065842 [32768/60000]\n",
            "loss: 0.049948 [49152/60000]\n",
            "Test Error: \n",
            " Accuracy: 90.9%, Avg loss: 0.419193 \n",
            "\n",
            "Epoch 15\n",
            "-----------------------------------\n",
            "loss: 0.087841 [16384/60000]\n",
            "loss: 0.036632 [32768/60000]\n",
            "loss: 0.016134 [49152/60000]\n",
            "Test Error: \n",
            " Accuracy: 91.3%, Avg loss: 0.412656 \n",
            "\n",
            "Done!!!\n"
          ]
        }
      ]
    },
    {
      "cell_type": "markdown",
      "source": [
        "### 배치 사이즈에 따른 학습 성능\n",
        "\n",
        "- MINST\n",
        "- batch_size\n",
        "  - 1 : 10epoch 기준으로 무난히 학습되며 91퍼 기록\n",
        "  - 128 : \n",
        "    - 10epoch, 학습률 0.001 기준으로 학습이 거의 안됨 (5퍼 기록)\n",
        "    - 30epoch, 학습률 0.001 기준으로도 학습이 거의 안됨 (11퍼 기록)\n",
        "    - 15epoch, 학습률 0.1 기준으로 성능이 매우 뛰어남 (92.3퍼), 속도도 빠르고 성능도 금방 얻을 수 있었음\n",
        "---\n",
        "배치 사이즈가 클수록 일반적인 모델이 되며, 과적합이 일어날 수 있는것같다.\n",
        "\n",
        "반면, 배치 사이즈가 작으면 불안정하게 수렴하게 되고 불안정한것이 노이즈가 되어 오버피팅되는것을 막는 효과를 줄 수 있다고 한다.\n",
        "\n",
        "---\n",
        "배치 사이즈가 큰데, 성능이 잘 안나온다? -> 학습률을 올려라\n",
        "(참고하는 데이터가 많으니까 특출하게 오차가 많은 것들이 없어저서 조그만한 차이를 크게 볼 수 있어야한듯)\n",
        "\n",
        "반대로 배치 사이즈가 작으면, 학습률을 낮추면 될듯"
      ],
      "metadata": {
        "id": "-JjFOBrbPGc0"
      }
    },
    {
      "cell_type": "markdown",
      "source": [
        "# 모델을 이어서 학습시킬 수 있다!\n",
        "\n",
        "- 모델을 학습 시키고 나서 다시 새로 만들지 않는다면 실행버튼만 누르면 그대로 이어서 학습시킬 수 있다"
      ],
      "metadata": {
        "id": "UO_pI0_fBFK-"
      }
    },
    {
      "cell_type": "markdown",
      "source": [
        "# logits 값과 학습방법 정확도에 대하여\n",
        "\n",
        "- logits란 각 클래스별 선형결과값을 모아놓은 것\n",
        "  - 클래스가 10개라면 10개값이 들어있는 배열을 의미\n",
        "  - batch_size가 1이라면 배열이 1개겠지만, 128개라면 128개가 있음\n",
        "\n",
        "- 정확도\n",
        "  - 지금 모델을 정확도를 계산하는 방법이 sparse_categorical일때를 가정하고 있다\n",
        "  - correct += (pred.argmax(1) == y).type(torch.float).sum().item()\n",
        "  - logits들이 들어있는 pred 변수에서 가장 높은 값을 갖는 원소의 인덱스가 타켓값(정수)와 같으면 누적하는 방식이다\n",
        "  - 따라서 타겟값이 정수가 아니라면 이 방법으로는 정확도를 계산할 수 없다.\n",
        "\n",
        "- 학습\n",
        "  - 모델이 확률을 반환하는 것이 아니라 logits 값을 반환하지만 학습이 되는 이유는 로스함수에서 logit 값을 입력하기 때문이다\n",
        "  - 학습만을 위한다면 어떤 클래스인지 확률로 변환해서 나타내는 과정이 필요없다는 것이다.\n",
        "  - 어떤 클래스를 예측했는지 예쁘게 알고싶다면 crossEntopy를 이용해서 확률로 변환하고 argmax를 통해서 어떤 클래싄지를 확인해야 한다"
      ],
      "metadata": {
        "id": "FaIUGZq9Xmji"
      }
    },
    {
      "cell_type": "markdown",
      "source": [
        "1. fashion MNIST로 학습 시켜서 준수한 성능 만들어내기\n",
        " - 필터 크기 5 \n",
        "   - sigmoid : epoch30, l_rate:0.1, 84%\n",
        "   - relu : 위와 동일 조건인데, 시작이 70퍼 이상인데?? 이게 렐루의 효과?? 89.5%\n",
        "            다시 sigmoid로 확인해보자. 시그모드는 10퍼대부터 시작 ( 그러면 렐루가 100번 동안 굉장히 빠르고 급진적으로 변화를 만들어주는것 )\n",
        "            학습이 진해될수록 더더지면서 90퍼이상으로는 올라가지 못함\n",
        "\n",
        "    풀링에 따른 차이가 있는지 확인해보자\n",
        "    relu, maxpoolig일때 89.7%. 맥스 풀링이 조금 더 좋은 성능을 내는것같음\n",
        "\n",
        " - 필터 크기 3 + 기피 하나 더 늘리기\n",
        "   - relu 90 근소하게 조금 더 오르긴함\n",
        "\n",
        "\n",
        "2. 이미지 크기 변환을 통해서 학습시켜보기 (최종)\n",
        "  - 이미지 변환으로 일단 돌아가는지 확인 0\n",
        "     성능은 91.3정도로 나옴, 근데 학습하는데 시간이 엄청 걸린다. (1시간 10분)\n",
        "\n",
        "     오래걸린것에 비해서 성능이 비약적으로 상승하지는 않는다.\n",
        "\n",
        " \n",
        "\n",
        " logits -> 각 클래스마다의 선형 결과값을 저장\n",
        " 10개 클래스면 [xxx, xxx, xxx, ... , xxx] -> 10개 묶음으로 하나를 표현\n",
        "\n",
        " 이게 한번에 배치 사이즈만큼 출력됨\n",
        "\n",
        " 그리고 오차를 계산해서 개선하는 방식\n",
        "\n",
        "correct를 계산하는 방법이 이미 sparse_categorical로 가정하고 진행되는거라\n",
        "내가 임의적으로 가져온 데이터셋을 사용하기 위해서는\n",
        "1. sparse categorical로 변경\n",
        "2. 새로운 방법 찾기\n",
        "\n"
      ],
      "metadata": {
        "id": "yrf_flbhbpL5"
      }
    },
    {
      "cell_type": "markdown",
      "source": [
        "이제 문자열로 되어있는 레이블값을 어떻게 사용해서 정확도를 계산할 수 있도록 만들건지 알아봐야함"
      ],
      "metadata": {
        "id": "18zO5rixbrye"
      }
    },
    {
      "cell_type": "markdown",
      "source": [
        "라벨과 인덱스를 매칭하는 힌트로 보이는 사이트 글\n",
        "- https://blog.promedius.ai/pytorch_dataloader_1/"
      ],
      "metadata": {
        "id": "8S5VKn9SaP98"
      }
    },
    {
      "cell_type": "markdown",
      "source": [
        "이미지넷 가볍게 만든 버전\n",
        "- https://www.kaggle.com/datasets/ifigotin/imagenetmini-1000"
      ],
      "metadata": {
        "id": "yaf0PWQTlf5B"
      }
    }
  ]
}